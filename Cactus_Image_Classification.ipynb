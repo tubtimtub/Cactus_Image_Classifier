{
 "cells": [
  {
   "cell_type": "code",
   "execution_count": 2,
   "metadata": {
    "colab": {
     "base_uri": "https://localhost:8080/",
     "height": 40
    },
    "colab_type": "code",
    "id": "lknZrxLtpwLp",
    "outputId": "cecdd8cc-2cf4-4177-fec0-8715e96c6e02"
   },
   "outputs": [
    {
     "name": "stdout",
     "output_type": "stream",
     "text": [
      "Drive already mounted at /content/drive; to attempt to forcibly remount, call drive.mount(\"/content/drive\", force_remount=True).\n"
     ]
    }
   ],
   "source": [
    "from google.colab import drive \n",
    "drive.mount('/content/drive')"
   ]
  },
  {
   "cell_type": "code",
   "execution_count": null,
   "metadata": {
    "colab": {},
    "colab_type": "code",
    "id": "DmqNTELVxygj"
   },
   "outputs": [],
   "source": [
    "from tensorflow.keras.preprocessing.image import ImageDataGenerator\n",
    "from tensorflow.keras.applications import VGG16\n",
    "from tensorflow.keras.layers import AveragePooling2D\n",
    "from tensorflow.keras.layers import Dropout\n",
    "from tensorflow.keras.layers import Flatten\n",
    "from tensorflow.keras.layers import Dense\n",
    "from tensorflow.keras.layers import Input\n",
    "from tensorflow.keras.models import Model\n",
    "from tensorflow.keras.optimizers import Adam\n",
    "from tensorflow.keras.utils import to_categorical\n",
    "from sklearn.preprocessing import LabelBinarizer\n",
    "from sklearn.model_selection import train_test_split\n",
    "from sklearn.metrics import classification_report\n",
    "from sklearn.metrics import confusion_matrix\n",
    "from imutils import paths\n",
    "import matplotlib.pyplot as plt\n",
    "import numpy as np\n",
    "import argparse\n",
    "import cv2\n",
    "import os\n"
   ]
  },
  {
   "cell_type": "code",
   "execution_count": null,
   "metadata": {
    "colab": {},
    "colab_type": "code",
    "id": "G0HgTU3ryM-F"
   },
   "outputs": [],
   "source": [
    "dataset = \"/content/drive/My Drive/tensorflow.keras-VGG16/dataset\"\n",
    "plot = \"/content/drive/My Drive/tensorflow.keras-VGG16/plot.png\" \n",
    "model_path = \"/content/drive/My Drive/tensorflow.keras-VGG16/trained.model\"\n",
    "\n",
    "args={} \n",
    "args[\"dataset\"]=dataset \n",
    "args[\"plot\"]=plot \n",
    "args[\"model\"]=model_path\n"
   ]
  },
  {
   "cell_type": "code",
   "execution_count": 5,
   "metadata": {
    "colab": {
     "base_uri": "https://localhost:8080/",
     "height": 40
    },
    "colab_type": "code",
    "id": "TCQ0A8KxyWbO",
    "outputId": "156bed92-3a30-4cf7-9126-f68841e2b1e8"
   },
   "outputs": [
    {
     "name": "stdout",
     "output_type": "stream",
     "text": [
      "[INFO] loading images...\n"
     ]
    }
   ],
   "source": [
    "# grab the list of images in our dataset directory, then initialize\n",
    "# the list of data (i.e., images) and class images\n",
    "print(\"[INFO] loading images...\")\n",
    "#imagePaths = list(paths.list_images(args[\"dataset\"]))\n",
    "imagePaths = list(paths.list_images(dataset))\n",
    "data = []\n",
    "labels = []\n",
    "# loop over the image paths\n",
    "for imagePath in imagePaths:\n",
    "  # extract the class label from the filename\n",
    "  label = imagePath.split(os.path.sep)[-2]\n",
    "  # load the image, swap color channels, and resize it to be a fixed\n",
    "  # 224x224 pixels while ignoring aspect ratio\n",
    "  image = cv2.imread(imagePath)\n",
    "  image = cv2.cvtColor(image, cv2.COLOR_BGR2RGB)\n",
    "  image = cv2.resize(image, (224, 224))\n",
    "  # update the data and labels lists, respectively\n",
    "  data.append(image)\n",
    "  labels.append(label)\n",
    "# convert the data and labels to NumPy arrays while scaling the pixel\n",
    "# intensities to the range [0, 1]\n",
    "data = np.array(data) / 255.0\n",
    "labels = np.array(labels)\n"
   ]
  },
  {
   "cell_type": "code",
   "execution_count": null,
   "metadata": {
    "colab": {},
    "colab_type": "code",
    "id": "OYBCCu-ayws0"
   },
   "outputs": [],
   "source": [
    "# perform one-hot encoding on the labels\n",
    "lb = LabelBinarizer()\n",
    "labels = lb.fit_transform(labels)\n",
    "labels = to_categorical(labels); # print(labels)\n"
   ]
  },
  {
   "cell_type": "markdown",
   "metadata": {
    "colab_type": "text",
    "id": "UfTWqQXKyzFn"
   },
   "source": []
  },
  {
   "cell_type": "code",
   "execution_count": null,
   "metadata": {
    "colab": {},
    "colab_type": "code",
    "id": "qlnIRZ71y7yE"
   },
   "outputs": [],
   "source": [
    "# partition the data into training and validating splits using 80% of\n",
    "# the data for training and the remaining 20% for validating\n",
    "(trainX, valX, trainY, valY) = train_test_split(data, labels,\n",
    "  test_size=0.20, stratify=labels, random_state=42)\n",
    "# initialize the training data augmentation object\n",
    "trainAug = ImageDataGenerator(\n",
    "  rotation_range=15,\n",
    "  fill_mode=\"nearest\")\n"
   ]
  },
  {
   "cell_type": "code",
   "execution_count": null,
   "metadata": {
    "colab": {},
    "colab_type": "code",
    "id": "qEFcVtWq15Ct"
   },
   "outputs": [],
   "source": [
    "# load the VGG16 network, ensuring the head FC layer sets are left\n",
    "# off\n",
    "baseModel = VGG16(weights=\"imagenet\", include_top=False,\n",
    "  input_tensor=Input(shape=(224, 224, 3)))\n",
    "# construct the head of the model that will be placed on top of the\n",
    "# the base model\n",
    "headModel = baseModel.output\n",
    "headModel = AveragePooling2D(pool_size=(4, 4))(headModel)\n",
    "headModel = Flatten(name=\"flatten\")(headModel)\n",
    "headModel = Dense(64, activation=\"relu\")(headModel)\n",
    "headModel = Dropout(0.5)(headModel)\n",
    "headModel = Dense(2, activation=\"softmax\")(headModel)\n",
    "# place the head FC model on top of the base model (this will become\n",
    "# the actual model we will train)\n",
    "model = Model(inputs=baseModel.input, outputs=headModel)\n",
    "# loop over all layers in the base model and freeze them so they will\n",
    "# *not* be updated during the first training process\n",
    "for layer in baseModel.layers:\n",
    "  layer.trainable = False\n"
   ]
  },
  {
   "cell_type": "code",
   "execution_count": null,
   "metadata": {
    "colab": {},
    "colab_type": "code",
    "id": "gv__jgyl2CSA"
   },
   "outputs": [],
   "source": [
    "# initialize the initial learning rate, number of epochs to train for,\n",
    "# and batch size\n",
    "INIT_LR = 1e-3\n",
    "EPOCHS = 50\n",
    "BS = 10\n"
   ]
  },
  {
   "cell_type": "markdown",
   "metadata": {
    "colab_type": "text",
    "id": "vC8WxJQ6_v3V"
   },
   "source": []
  },
  {
   "cell_type": "code",
   "execution_count": 12,
   "metadata": {
    "colab": {
     "base_uri": "https://localhost:8080/",
     "height": 1000
    },
    "colab_type": "code",
    "id": "IAsRxsTb2Mz2",
    "outputId": "f38a710f-4226-48c1-cc3d-a3e873782837"
   },
   "outputs": [
    {
     "name": "stdout",
     "output_type": "stream",
     "text": [
      "[INFO] compiling model...\n",
      "[INFO] training head...\n",
      "Epoch 1/50\n",
      "4/4 [==============================] - 20s 5s/step - loss: 0.8543 - accuracy: 0.4000 - val_loss: 0.6785 - val_accuracy: 0.5000\n",
      "Epoch 2/50\n",
      "4/4 [==============================] - 20s 5s/step - loss: 0.5946 - accuracy: 0.7250 - val_loss: 0.6281 - val_accuracy: 0.7000\n",
      "Epoch 3/50\n",
      "4/4 [==============================] - 20s 5s/step - loss: 0.6467 - accuracy: 0.6500 - val_loss: 0.6068 - val_accuracy: 0.7000\n",
      "Epoch 4/50\n",
      "4/4 [==============================] - 20s 5s/step - loss: 0.5884 - accuracy: 0.7250 - val_loss: 0.5858 - val_accuracy: 0.7000\n",
      "Epoch 5/50\n",
      "4/4 [==============================] - 20s 5s/step - loss: 0.6600 - accuracy: 0.5250 - val_loss: 0.5594 - val_accuracy: 0.9000\n",
      "Epoch 6/50\n",
      "4/4 [==============================] - 20s 5s/step - loss: 0.4753 - accuracy: 0.8250 - val_loss: 0.5399 - val_accuracy: 0.9000\n",
      "Epoch 7/50\n",
      "4/4 [==============================] - 20s 5s/step - loss: 0.4671 - accuracy: 0.7750 - val_loss: 0.5200 - val_accuracy: 0.9000\n",
      "Epoch 8/50\n",
      "4/4 [==============================] - 20s 5s/step - loss: 0.5060 - accuracy: 0.7500 - val_loss: 0.5057 - val_accuracy: 0.9000\n",
      "Epoch 9/50\n",
      "4/4 [==============================] - 20s 5s/step - loss: 0.4610 - accuracy: 0.8250 - val_loss: 0.4903 - val_accuracy: 0.9000\n",
      "Epoch 10/50\n",
      "4/4 [==============================] - 20s 5s/step - loss: 0.3899 - accuracy: 0.9000 - val_loss: 0.4737 - val_accuracy: 0.9000\n",
      "Epoch 11/50\n",
      "4/4 [==============================] - 20s 5s/step - loss: 0.3709 - accuracy: 0.8500 - val_loss: 0.4585 - val_accuracy: 0.9000\n",
      "Epoch 12/50\n",
      "4/4 [==============================] - 20s 5s/step - loss: 0.3459 - accuracy: 0.8750 - val_loss: 0.4439 - val_accuracy: 0.9000\n",
      "Epoch 13/50\n",
      "4/4 [==============================] - 20s 5s/step - loss: 0.3401 - accuracy: 0.8500 - val_loss: 0.4315 - val_accuracy: 0.9000\n",
      "Epoch 14/50\n",
      "4/4 [==============================] - 20s 5s/step - loss: 0.3252 - accuracy: 0.9000 - val_loss: 0.4227 - val_accuracy: 0.9000\n",
      "Epoch 15/50\n",
      "4/4 [==============================] - 20s 5s/step - loss: 0.3613 - accuracy: 0.8500 - val_loss: 0.4163 - val_accuracy: 0.9000\n",
      "Epoch 16/50\n",
      "4/4 [==============================] - 20s 5s/step - loss: 0.3029 - accuracy: 0.9000 - val_loss: 0.4102 - val_accuracy: 0.9000\n",
      "Epoch 17/50\n",
      "4/4 [==============================] - 20s 5s/step - loss: 0.2581 - accuracy: 0.9500 - val_loss: 0.4035 - val_accuracy: 0.9000\n",
      "Epoch 18/50\n",
      "4/4 [==============================] - 20s 5s/step - loss: 0.3196 - accuracy: 0.9250 - val_loss: 0.3955 - val_accuracy: 0.9000\n",
      "Epoch 19/50\n",
      "4/4 [==============================] - 20s 5s/step - loss: 0.3300 - accuracy: 0.8750 - val_loss: 0.3923 - val_accuracy: 0.9000\n",
      "Epoch 20/50\n",
      "4/4 [==============================] - 24s 6s/step - loss: 0.2605 - accuracy: 0.9250 - val_loss: 0.3925 - val_accuracy: 0.9000\n",
      "Epoch 21/50\n",
      "4/4 [==============================] - 20s 5s/step - loss: 0.2756 - accuracy: 0.9250 - val_loss: 0.3875 - val_accuracy: 0.9000\n",
      "Epoch 22/50\n",
      "4/4 [==============================] - 20s 5s/step - loss: 0.2518 - accuracy: 0.9250 - val_loss: 0.3766 - val_accuracy: 0.9000\n",
      "Epoch 23/50\n",
      "4/4 [==============================] - 20s 5s/step - loss: 0.2231 - accuracy: 0.9750 - val_loss: 0.3671 - val_accuracy: 0.9000\n",
      "Epoch 24/50\n",
      "4/4 [==============================] - 20s 5s/step - loss: 0.2019 - accuracy: 0.9750 - val_loss: 0.3601 - val_accuracy: 0.9000\n",
      "Epoch 25/50\n",
      "4/4 [==============================] - 20s 5s/step - loss: 0.2491 - accuracy: 0.9250 - val_loss: 0.3584 - val_accuracy: 0.9000\n",
      "Epoch 26/50\n",
      "4/4 [==============================] - 20s 5s/step - loss: 0.2171 - accuracy: 0.9250 - val_loss: 0.3526 - val_accuracy: 0.9000\n",
      "Epoch 27/50\n",
      "4/4 [==============================] - 20s 5s/step - loss: 0.1929 - accuracy: 0.9250 - val_loss: 0.3463 - val_accuracy: 0.9000\n",
      "Epoch 28/50\n",
      "4/4 [==============================] - 20s 5s/step - loss: 0.1785 - accuracy: 0.9500 - val_loss: 0.3413 - val_accuracy: 0.9000\n",
      "Epoch 29/50\n",
      "4/4 [==============================] - 20s 5s/step - loss: 0.1682 - accuracy: 0.9750 - val_loss: 0.3399 - val_accuracy: 0.9000\n",
      "Epoch 30/50\n",
      "4/4 [==============================] - 20s 5s/step - loss: 0.1607 - accuracy: 1.0000 - val_loss: 0.3411 - val_accuracy: 0.9000\n",
      "Epoch 31/50\n",
      "4/4 [==============================] - 20s 5s/step - loss: 0.1693 - accuracy: 0.9250 - val_loss: 0.3598 - val_accuracy: 0.9000\n",
      "Epoch 32/50\n",
      "4/4 [==============================] - 20s 5s/step - loss: 0.1436 - accuracy: 0.9500 - val_loss: 0.3552 - val_accuracy: 0.9000\n",
      "Epoch 33/50\n",
      "4/4 [==============================] - 20s 5s/step - loss: 0.1461 - accuracy: 1.0000 - val_loss: 0.3456 - val_accuracy: 0.9000\n",
      "Epoch 34/50\n",
      "4/4 [==============================] - 20s 5s/step - loss: 0.1235 - accuracy: 1.0000 - val_loss: 0.3372 - val_accuracy: 0.9000\n",
      "Epoch 35/50\n",
      "4/4 [==============================] - 20s 5s/step - loss: 0.1460 - accuracy: 0.9750 - val_loss: 0.3310 - val_accuracy: 0.9000\n",
      "Epoch 36/50\n",
      "4/4 [==============================] - 20s 5s/step - loss: 0.1393 - accuracy: 0.9500 - val_loss: 0.3267 - val_accuracy: 0.9000\n",
      "Epoch 37/50\n",
      "4/4 [==============================] - 20s 5s/step - loss: 0.1369 - accuracy: 1.0000 - val_loss: 0.3262 - val_accuracy: 0.9000\n",
      "Epoch 38/50\n",
      "4/4 [==============================] - 20s 5s/step - loss: 0.1410 - accuracy: 0.9750 - val_loss: 0.3229 - val_accuracy: 0.9000\n",
      "Epoch 39/50\n",
      "4/4 [==============================] - 20s 5s/step - loss: 0.1470 - accuracy: 0.9500 - val_loss: 0.3261 - val_accuracy: 0.9000\n",
      "Epoch 40/50\n",
      "4/4 [==============================] - 20s 5s/step - loss: 0.0978 - accuracy: 1.0000 - val_loss: 0.3278 - val_accuracy: 0.9000\n",
      "Epoch 41/50\n",
      "4/4 [==============================] - 20s 5s/step - loss: 0.1250 - accuracy: 0.9750 - val_loss: 0.3213 - val_accuracy: 0.9000\n",
      "Epoch 42/50\n",
      "4/4 [==============================] - 20s 5s/step - loss: 0.1127 - accuracy: 1.0000 - val_loss: 0.3218 - val_accuracy: 0.9000\n",
      "Epoch 43/50\n",
      "4/4 [==============================] - 20s 5s/step - loss: 0.0899 - accuracy: 1.0000 - val_loss: 0.3157 - val_accuracy: 0.9000\n",
      "Epoch 44/50\n",
      "4/4 [==============================] - 20s 5s/step - loss: 0.1049 - accuracy: 0.9750 - val_loss: 0.3102 - val_accuracy: 0.9000\n",
      "Epoch 45/50\n",
      "4/4 [==============================] - 20s 5s/step - loss: 0.1209 - accuracy: 0.9500 - val_loss: 0.3095 - val_accuracy: 0.9000\n",
      "Epoch 46/50\n",
      "4/4 [==============================] - 20s 5s/step - loss: 0.1068 - accuracy: 0.9750 - val_loss: 0.3086 - val_accuracy: 0.9000\n",
      "Epoch 47/50\n",
      "4/4 [==============================] - 20s 5s/step - loss: 0.1076 - accuracy: 0.9750 - val_loss: 0.3171 - val_accuracy: 0.9000\n",
      "Epoch 48/50\n",
      "4/4 [==============================] - 20s 5s/step - loss: 0.1117 - accuracy: 0.9500 - val_loss: 0.3323 - val_accuracy: 0.9000\n",
      "Epoch 49/50\n",
      "4/4 [==============================] - 20s 5s/step - loss: 0.0701 - accuracy: 1.0000 - val_loss: 0.3245 - val_accuracy: 0.9000\n",
      "Epoch 50/50\n",
      "4/4 [==============================] - 20s 5s/step - loss: 0.0597 - accuracy: 1.0000 - val_loss: 0.3125 - val_accuracy: 0.9000\n"
     ]
    }
   ],
   "source": [
    "# compile our model\n",
    "print(\"[INFO] compiling model...\")\n",
    "opt = Adam(lr=INIT_LR, decay=INIT_LR / EPOCHS)\n",
    "model.compile(loss=\"binary_crossentropy\", optimizer=opt,\n",
    "  metrics=[\"accuracy\"])\n",
    "# train the head of the network\n",
    "print(\"[INFO] training head...\")\n",
    "H = model.fit_generator(\n",
    "  trainAug.flow(trainX, trainY, batch_size=BS),\n",
    "  steps_per_epoch=len(trainX) // BS,\n",
    "  validation_data=(valX, valY),\n",
    "  validation_steps=len(valX) // BS,\n",
    "  epochs=EPOCHS)\n"
   ]
  },
  {
   "cell_type": "code",
   "execution_count": 13,
   "metadata": {
    "colab": {
     "base_uri": "https://localhost:8080/",
     "height": 296
    },
    "colab_type": "code",
    "id": "FU7L8ZqU5iwZ",
    "outputId": "e4d2c955-694b-41b4-d77a-d0dd8d9528ee"
   },
   "outputs": [
    {
     "data": {
      "image/png": "[encoded data removed]",
      "text/plain": [
       "<Figure size 432x288 with 1 Axes>"
      ]
     },
     "metadata": {
      "needs_background": "light",
      "tags": []
     },
     "output_type": "display_data"
    }
   ],
   "source": [
    "# plot the training loss and accuracy\n",
    "N = EPOCHS\n",
    "#plt.style.use(\"ggplot\")\n",
    "plt.figure()\n",
    "plt.plot(np.arange(0.99, N), H.history[\"accuracy\"], label=\"train_acc\")\n",
    "plt.plot(np.arange(0.99, N), H.history[\"val_accuracy\"], label=\"val_acc\")\n",
    "plt.title(\"Training Loss and Accuracy on Astrophytum Asteriast\")\n",
    "plt.xlabel(\"Epoch #\")\n",
    "plt.ylabel(\"Loss/Accuracy\")\n",
    "plt.legend(loc=\"lower left\")\n",
    "#plt.savefig(args[\"plot\"])\n",
    "plt.savefig(plot)\n"
   ]
  },
  {
   "cell_type": "code",
   "execution_count": 14,
   "metadata": {
    "colab": {
     "base_uri": "https://localhost:8080/",
     "height": 40
    },
    "colab_type": "code",
    "id": "uBjVPvbN6V4P",
    "outputId": "0219f068-2695-4d86-9c33-602a6b1244f6"
   },
   "outputs": [
    {
     "name": "stdout",
     "output_type": "stream",
     "text": [
      "[INFO] saving trained model...\n"
     ]
    }
   ],
   "source": [
    "# serialize the model to disk\n",
    "print(\"[INFO] saving trained model...\")\n",
    "# model.save(args[\"model\"], save_format=\"h5\")\n",
    "model.save(model_path, save_format=\"h5\")\n"
   ]
  },
  {
   "cell_type": "code",
   "execution_count": 15,
   "metadata": {
    "colab": {
     "base_uri": "https://localhost:8080/",
     "height": 40
    },
    "colab_type": "code",
    "id": "cRXhJTdAv8gQ",
    "outputId": "f759743e-02c7-481c-ae87-f29ae6dfa6a7"
   },
   "outputs": [
    {
     "name": "stdout",
     "output_type": "stream",
     "text": [
      "astrophytum asterias\n"
     ]
    }
   ],
   "source": [
    "image_unknow = cv2.imread(\"/content/drive/My Drive/tensorflow.keras-VGG16/unknown_sample/1-1.jpg\")\n",
    "image_unknow = cv2.cvtColor(image_unknow, cv2.COLOR_BGR2RGB)\n",
    "image_unknow = cv2.resize(image_unknow, (224, 224)) # size of picture = [224, 224, 3]\n",
    "data = [image_unknow] # size of picture arrays = [1, 224, 224, 3]\n",
    "data = np.array(data) / 255.0\n",
    "\n",
    "predIdxs = model.predict(data, batch_size=1)\n",
    "result = np.argmax(predIdxs, axis=1)\n",
    "\n",
    "if result == 0:\n",
    "  print(\"not astrophytum asterias\")\n",
    "if result == 1:\n",
    "  print(\"astrophytum asterias\")\n"
   ]
  },
  {
   "cell_type": "code",
   "execution_count": 16,
   "metadata": {
    "colab": {
     "base_uri": "https://localhost:8080/",
     "height": 40
    },
    "colab_type": "code",
    "id": "cb7LIsU53HJa",
    "outputId": "ed7be3ee-7daa-4e65-a344-b9ef28d455c6"
   },
   "outputs": [
    {
     "name": "stdout",
     "output_type": "stream",
     "text": [
      "astrophytum asterias\n"
     ]
    }
   ],
   "source": [
    "image_unknow = cv2.imread(\"/content/drive/My Drive/tensorflow.keras-VGG16/unknown_sample/2-1.jpg\")\n",
    "image_unknow = cv2.cvtColor(image_unknow, cv2.COLOR_BGR2RGB)\n",
    "image_unknow = cv2.resize(image_unknow, (224, 224)) # size of picture = [224, 224, 3]\n",
    "data = [image_unknow] # size of picture arrays = [1, 224, 224, 3]\n",
    "data = np.array(data) / 255.0\n",
    "\n",
    "predIdxs = model.predict(data, batch_size=1)\n",
    "result = np.argmax(predIdxs, axis=1)\n",
    "\n",
    "if result == 0:\n",
    "  print(\"not astrophytum asterias\")\n",
    "if result == 1:\n",
    "  print(\"astrophytum asterias\")\n"
   ]
  },
  {
   "cell_type": "code",
   "execution_count": 17,
   "metadata": {
    "colab": {
     "base_uri": "https://localhost:8080/",
     "height": 40
    },
    "colab_type": "code",
    "id": "z5SDQtWC30m6",
    "outputId": "6509865f-27b8-40ce-ca09-445340e1881d"
   },
   "outputs": [
    {
     "name": "stdout",
     "output_type": "stream",
     "text": [
      "astrophytum asterias\n"
     ]
    }
   ],
   "source": [
    "image_unknow = cv2.imread(\"/content/drive/My Drive/tensorflow.keras-VGG16/unknown_sample/3-1.jpg\")\n",
    "image_unknow = cv2.cvtColor(image_unknow, cv2.COLOR_BGR2RGB)\n",
    "image_unknow = cv2.resize(image_unknow, (224, 224)) # size of picture = [224, 224, 3]\n",
    "data = [image_unknow] # size of picture arrays = [1, 224, 224, 3]\n",
    "data = np.array(data) / 255.0\n",
    "\n",
    "predIdxs = model.predict(data, batch_size=1)\n",
    "result = np.argmax(predIdxs, axis=1)\n",
    "\n",
    "if result == 0:\n",
    "  print(\"not astrophytum asterias\")\n",
    "if result == 1:\n",
    "  print(\"astrophytum asterias\")"
   ]
  },
  {
   "cell_type": "code",
   "execution_count": 18,
   "metadata": {
    "colab": {
     "base_uri": "https://localhost:8080/",
     "height": 40
    },
    "colab_type": "code",
    "id": "ANE1WNDM33bD",
    "outputId": "fbf3f0f3-2322-491f-e626-367523d145e9"
   },
   "outputs": [
    {
     "name": "stdout",
     "output_type": "stream",
     "text": [
      "astrophytum asterias\n"
     ]
    }
   ],
   "source": [
    "image_unknow = cv2.imread(\"/content/drive/My Drive/tensorflow.keras-VGG16/unknown_sample/4-1.jpg\")\n",
    "image_unknow = cv2.cvtColor(image_unknow, cv2.COLOR_BGR2RGB)\n",
    "image_unknow = cv2.resize(image_unknow, (224, 224)) # size of picture = [224, 224, 3]\n",
    "data = [image_unknow] # size of picture arrays = [1, 224, 224, 3]\n",
    "data = np.array(data) / 255.0\n",
    "\n",
    "predIdxs = model.predict(data, batch_size=1)\n",
    "result = np.argmax(predIdxs, axis=1)\n",
    "\n",
    "if result == 0:\n",
    "  print(\"not astrophytum asterias\")\n",
    "if result == 1:\n",
    "  print(\"astrophytum asterias\")"
   ]
  },
  {
   "cell_type": "code",
   "execution_count": 19,
   "metadata": {
    "colab": {
     "base_uri": "https://localhost:8080/",
     "height": 40
    },
    "colab_type": "code",
    "id": "1mthyT2Q35Nr",
    "outputId": "f08dffe1-0503-43e7-f4c4-aff9a432ca95"
   },
   "outputs": [
    {
     "name": "stdout",
     "output_type": "stream",
     "text": [
      "not astrophytum asterias\n"
     ]
    }
   ],
   "source": [
    "image_unknow = cv2.imread(\"/content/drive/My Drive/tensorflow.keras-VGG16/unknown_sample/5-0.jpg\")\n",
    "image_unknow = cv2.cvtColor(image_unknow, cv2.COLOR_BGR2RGB)\n",
    "image_unknow = cv2.resize(image_unknow, (224, 224)) # size of picture = [224, 224, 3]\n",
    "data = [image_unknow] # size of picture arrays = [1, 224, 224, 3]\n",
    "data = np.array(data) / 255.0\n",
    "\n",
    "predIdxs = model.predict(data, batch_size=1)\n",
    "result = np.argmax(predIdxs, axis=1)\n",
    "\n",
    "if result == 0:\n",
    "  print(\"not astrophytum asterias\")\n",
    "if result == 1:\n",
    "  print(\"astrophytum asterias\")"
   ]
  },
  {
   "cell_type": "code",
   "execution_count": 20,
   "metadata": {
    "colab": {
     "base_uri": "https://localhost:8080/",
     "height": 40
    },
    "colab_type": "code",
    "id": "Ri6QRPSj4CB2",
    "outputId": "9d2fad83-0487-4b2a-d331-bd71ca8d6ecf"
   },
   "outputs": [
    {
     "name": "stdout",
     "output_type": "stream",
     "text": [
      "not astrophytum asterias\n"
     ]
    }
   ],
   "source": [
    "image_unknow = cv2.imread(\"/content/drive/My Drive/tensorflow.keras-VGG16/unknown_sample/6-0.jpg\")\n",
    "image_unknow = cv2.cvtColor(image_unknow, cv2.COLOR_BGR2RGB)\n",
    "image_unknow = cv2.resize(image_unknow, (224, 224)) # size of picture = [224, 224, 3]\n",
    "data = [image_unknow] # size of picture arrays = [1, 224, 224, 3]\n",
    "data = np.array(data) / 255.0\n",
    "\n",
    "predIdxs = model.predict(data, batch_size=1)\n",
    "result = np.argmax(predIdxs, axis=1)\n",
    "\n",
    "if result == 0:\n",
    "  print(\"not astrophytum asterias\")\n",
    "if result == 1:\n",
    "  print(\"astrophytum asterias\")"
   ]
  },
  {
   "cell_type": "code",
   "execution_count": 21,
   "metadata": {
    "colab": {
     "base_uri": "https://localhost:8080/",
     "height": 40
    },
    "colab_type": "code",
    "id": "QMzhKyf_4EP2",
    "outputId": "82220acb-e8ea-4d78-a591-19406e432382"
   },
   "outputs": [
    {
     "name": "stdout",
     "output_type": "stream",
     "text": [
      "not astrophytum asterias\n"
     ]
    }
   ],
   "source": [
    "image_unknow = cv2.imread(\"/content/drive/My Drive/tensorflow.keras-VGG16/unknown_sample/7-0.jpg\")\n",
    "image_unknow = cv2.cvtColor(image_unknow, cv2.COLOR_BGR2RGB)\n",
    "image_unknow = cv2.resize(image_unknow, (224, 224)) # size of picture = [224, 224, 3]\n",
    "data = [image_unknow] # size of picture arrays = [1, 224, 224, 3]\n",
    "data = np.array(data) / 255.0\n",
    "\n",
    "predIdxs = model.predict(data, batch_size=1)\n",
    "result = np.argmax(predIdxs, axis=1)\n",
    "\n",
    "if result == 0:\n",
    "  print(\"not astrophytum asterias\")\n",
    "if result == 1:\n",
    "  print(\"astrophytum asterias\")"
   ]
  },
  {
   "cell_type": "code",
   "execution_count": 22,
   "metadata": {
    "colab": {
     "base_uri": "https://localhost:8080/",
     "height": 40
    },
    "colab_type": "code",
    "id": "SUDzqb2W4IhH",
    "outputId": "e669a952-f4f6-4711-844f-a1b341da595d"
   },
   "outputs": [
    {
     "name": "stdout",
     "output_type": "stream",
     "text": [
      "not astrophytum asterias\n"
     ]
    }
   ],
   "source": [
    "image_unknow = cv2.imread(\"/content/drive/My Drive/tensorflow.keras-VGG16/unknown_sample/8-0.jpg\")\n",
    "image_unknow = cv2.cvtColor(image_unknow, cv2.COLOR_BGR2RGB)\n",
    "image_unknow = cv2.resize(image_unknow, (224, 224)) # size of picture = [224, 224, 3]\n",
    "data = [image_unknow] # size of picture arrays = [1, 224, 224, 3]\n",
    "data = np.array(data) / 255.0\n",
    "\n",
    "predIdxs = model.predict(data, batch_size=1)\n",
    "result = np.argmax(predIdxs, axis=1)\n",
    "\n",
    "if result == 0:\n",
    "  print(\"not astrophytum asterias\")\n",
    "if result == 1:\n",
    "  print(\"astrophytum asterias\")"
   ]
  },
  {
   "cell_type": "code",
   "execution_count": 23,
   "metadata": {
    "colab": {
     "base_uri": "https://localhost:8080/",
     "height": 40
    },
    "colab_type": "code",
    "id": "Vt84OP-g4KoS",
    "outputId": "4476a886-802d-4e25-9a80-1e0c7e02e79c"
   },
   "outputs": [
    {
     "name": "stdout",
     "output_type": "stream",
     "text": [
      "not astrophytum asterias\n"
     ]
    }
   ],
   "source": [
    "image_unknow = cv2.imread(\"/content/drive/My Drive/tensorflow.keras-VGG16/unknown_sample/Hybrid-0.jpg\")\n",
    "image_unknow = cv2.cvtColor(image_unknow, cv2.COLOR_BGR2RGB)\n",
    "image_unknow = cv2.resize(image_unknow, (224, 224)) # size of picture = [224, 224, 3]\n",
    "data = [image_unknow] # size of picture arrays = [1, 224, 224, 3]\n",
    "data = np.array(data) / 255.0\n",
    "\n",
    "predIdxs = model.predict(data, batch_size=1)\n",
    "result = np.argmax(predIdxs, axis=1)\n",
    "\n",
    "if result == 0:\n",
    "  print(\"not astrophytum asterias\")\n",
    "if result == 1:\n",
    "  print(\"astrophytum asterias\")"
   ]
  }
 ],
 "metadata": {
  "accelerator": "TPU",
  "colab": {
   "name": "lecture 8.ipynb",
   "provenance": []
  },
  "kernelspec": {
   "display_name": "Python 3 (ipykernel)",
   "language": "python",
   "name": "python3"
  },
  "language_info": {
   "codemirror_mode": {
    "name": "ipython",
    "version": 3
   },
   "file_extension": ".py",
   "mimetype": "text/x-python",
   "name": "python",
   "nbconvert_exporter": "python",
   "pygments_lexer": "ipython3",
   "version": "3.12.4"
  }
 },
 "nbformat": 4,
 "nbformat_minor": 4
}
